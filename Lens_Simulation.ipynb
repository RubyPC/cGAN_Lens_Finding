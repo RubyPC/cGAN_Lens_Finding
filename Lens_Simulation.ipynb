{
 "cells": [
  {
   "cell_type": "markdown",
   "id": "9e4aa353",
   "metadata": {},
   "source": [
    "# Simulating Strong Gravitational Lenses \n",
    "In this notebook, we go through the method of simulating strong gravitational lenses with Euclid observation configurations using [Lenstronomy](https://lenstronomy.readthedocs.io/en/latest/). The goal is to generate a dataset of lenses in Euclid-VIS and Euclid-NISP filters to test the cGAN against. For more examples of simulating lenses, especially using different observation configurations, I recommend: https://github.com/lenstronomy/lenstronomy-tutorials."
   ]
  },
  {
   "cell_type": "markdown",
   "id": "d2c2d331",
   "metadata": {},
   "source": [
    "We will start by importing the standard packages."
   ]
  },
  {
   "cell_type": "code",
   "execution_count": 1,
   "id": "76704a1a",
   "metadata": {},
   "outputs": [],
   "source": [
    "# standard imports\n",
    "import copy\n",
    "import os\n",
    "import numpy as np\n",
    "import pandas as pd\n",
    "import random\n",
    "import matplotlib.pyplot as plt\n",
    "import os\n",
    "from skimage.transform import resize"
   ]
  },
  {
   "cell_type": "markdown",
   "id": "823cae85",
   "metadata": {},
   "source": [
    "These simulations make use of spectroscopic data, so you will need to install [Skypy](https://pypi.org/project/skypy/) and [Speclite](https://speclite.readthedocs.io/en/latest/)."
   ]
  },
  {
   "cell_type": "code",
   "execution_count": 2,
   "id": "6f09d140",
   "metadata": {},
   "outputs": [],
   "source": [
    "# skypy imports\n",
    "import skypy\n",
    "from skypy.pipeline import Pipeline\n",
    "import speclite\n",
    "import astropy\n",
    "from astropy.modeling import models"
   ]
  },
  {
   "cell_type": "markdown",
   "id": "909c46f2",
   "metadata": {},
   "source": [
    "Import the packages required for simulations with [Lenstronomy](https://lenstronomy.readthedocs.io/en/latest/)."
   ]
  },
  {
   "cell_type": "code",
   "execution_count": 3,
   "id": "7ca63387",
   "metadata": {},
   "outputs": [
    {
     "name": "stderr",
     "output_type": "stream",
     "text": [
      "/Users/ruby/miniconda3/envs/eazy/lib/python3.8/site-packages/numba/core/decorators.py:262: NumbaDeprecationWarning: \u001b[1mnumba.generated_jit is deprecated. Please see the documentation at: https://numba.readthedocs.io/en/stable/reference/deprecation.html#deprecation-of-generated-jit for more information and advice on a suitable replacement.\u001b[0m\n",
      "  warnings.warn(msg, NumbaDeprecationWarning)\n"
     ]
    }
   ],
   "source": [
    "# lenstronomy module imports\n",
    "from lenstronomy.SimulationAPI.sim_api import SimAPI\n",
    "import lenstronomy.Plots.plot_util as plot_util\n",
    "from lenstronomy.Util import constants\n",
    "from lenstronomy.Cosmo.lens_cosmo import LensCosmo\n",
    "import lenstronomy.Util.data_util as data_util\n",
    "import lenstronomy.Util.util as util\n",
    "from lenstronomy.LightModel.Profiles.gaussian import GaussianEllipse\n",
    "from astropy.io import fits"
   ]
  },
  {
   "cell_type": "markdown",
   "id": "fac85b16",
   "metadata": {},
   "source": [
    "Our strong lensing simulations are based on the lens parameters from http://metcalf1.difa.unibo.it/blf-portal/gg_challenge.html. You will need to download the image catalog and save as a csv file. This is available from the above link or in the *Data/* directory of this repository. Below, we load in the csv file."
   ]
  },
  {
   "cell_type": "code",
   "execution_count": 5,
   "id": "c334cae2",
   "metadata": {},
   "outputs": [],
   "source": [
    "# load in the log lens parameters\n",
    "# path to YOUR working directory\n",
    "wdir = '/Users/ruby/Documents/Python Scripts/cGAN/Euclid-JWST/'\n",
    "\n",
    "# path to YOUR saved .csv file\n",
    "psf_dir = wdir+'PSFs/'\n",
    "csv = pd.read_csv(psf_dir+'image_catalog2.0train.csv')"
   ]
  },
  {
   "cell_type": "markdown",
   "id": "18e4c95a",
   "metadata": {},
   "source": [
    "We need to define the cosmology. We will assume a Flat $\\Lambda CDM$ cosmology."
   ]
  },
  {
   "cell_type": "code",
   "execution_count": 6,
   "id": "f3f4d3e1",
   "metadata": {},
   "outputs": [],
   "source": [
    "# define the cosmology\n",
    "from lenstronomy.Cosmo.lens_cosmo import LensCosmo\n",
    "from astropy.cosmology import FlatLambdaCDM\n",
    "cosmo = FlatLambdaCDM(H0=70, Om0=0.3, Ob0=0.)"
   ]
  },
  {
   "cell_type": "markdown",
   "id": "7fe9b3de",
   "metadata": {},
   "source": [
    "We will need to use the Faber-Jackson magnitude to mass relationship to calculate the velocity dispersion in our simulations. We use magnitude and redshift pairs from the single lens dataset. We load the data from Table 1 in https://articles.adsabs.harvard.edu/pdf/1976ApJ...204..668F. We also give the csv file in the *Data/* directory."
   ]
  },
  {
   "cell_type": "code",
   "execution_count": 7,
   "id": "9a9bc0c6",
   "metadata": {},
   "outputs": [],
   "source": [
    "def give_me_a_straight_line(x,y):\n",
    "        w, b  = np.polyfit(x,y,deg=1)\n",
    "        return w,b \n",
    "\n",
    "def MakeFaberJackson():\n",
    "    FJG = pd.read_csv(wdir+'FaberJacksonGraph.csv')\n",
    "\n",
    "    X = FJG['MB (mag)'].values\n",
    "    Y = np.log10(FJG['Fourier Velocity 1'].values)\n",
    "\n",
    "    w, b = give_me_a_straight_line(X,Y)\n",
    "\n",
    "    return X,Y,w,b\n",
    "    #y = w * X + b --> calculates velocity dispersion from magnitude"
   ]
  },
  {
   "cell_type": "markdown",
   "id": "e95cf345",
   "metadata": {},
   "source": [
    "Now, we get the CCD specifications for Euclid. The information for the Euclid camera and band_obs are taken from [Lenstronomy](https://lenstronomy.readthedocs.io/en/latest/). \n",
    "\n",
    "*Now that Euclid has launched, the band observations may need to be changed in the Lenstronomy docs.*"
   ]
  },
  {
   "cell_type": "code",
   "execution_count": 8,
   "id": "6847e07f",
   "metadata": {},
   "outputs": [],
   "source": [
    "# now get the Euclid band observations\n",
    "gauss = GaussianEllipse()\n",
    "Euclid_camera_NISP = {'read_noise': 10,  # std of noise generated by read-out (in units of electrons)\n",
    "               'pixel_scale': 0.3,  # scale (in arcseonds) of pixels\n",
    "               'ccd_gain': 4.5  # electrons/ADU (analog-to-digital unit). A gain of 8 means that the camera digitizes the CCD signal so that each ADU corresponds to 8 photoelectrons.\n",
    "              }\n",
    "\n",
    "Euclid_camera_VIS = {'read_noise': 4.2,  # std of noise generated by read-out (in units of electrons)\n",
    "               'pixel_scale': 0.1,  # scale (in arcseonds) of pixels\n",
    "               'ccd_gain': 3.1  # electrons/ADU (analog-to-digital unit). A gain of 8 means that the camera digitizes the CCD signal so that each ADU corresponds to 8 photoelectrons.\n",
    "              }\n",
    "\n",
    "Euclid_J_band_obs = {'exposure_time': 264.,  # exposure time per image (in seconds)\n",
    "                   'sky_brightness': 22.35,  # sky brightness (in magnitude per square arcseconds)\n",
    "                   'magnitude_zero_point': 24.0,  # magnitude in which 1 count per second per arcsecond square is registered (in ADU's)\n",
    "                   'num_exposures': 3,  # number of exposures that are combined\n",
    "                   'seeing': 0.16,  # full width at half maximum of the PSF (if not specific psf_model is specified)\n",
    "                   'psf_type': 'GAUSSIAN',  # string, type of PSF ('GAUSSIAN' and 'PIXEL' supported)\n",
    "                   'kernel_point_source': None  # 2d numpy array, model of PSF centered with odd number of pixels per axis (optional when psf_type='PIXEL' is chosen)\n",
    "                  }\n",
    "\n",
    "Euclid_Y_band_obs = {'exposure_time': 264.,\n",
    "                   'sky_brightness': 22.35,\n",
    "                   'magnitude_zero_point': 24.0,\n",
    "                   'num_exposures': 3,\n",
    "                   'seeing': 0.16,\n",
    "                   'psf_type': 'GAUSSIAN'}\n",
    "\n",
    "Euclid_H_band_obs = {'exposure_time': 264.,\n",
    "                   'sky_brightness': 22.35,\n",
    "                   'magnitude_zero_point': 24.0,\n",
    "                   'num_exposures': 3,\n",
    "                   'seeing': 0.16,\n",
    "                   'psf_type': 'GAUSSIAN'}\n",
    "\n",
    "Euclid_VIS_band_obs = {'exposure_time': 1800.,\n",
    "                   'sky_brightness': 22.35,\n",
    "                   'magnitude_zero_point': 24.0,\n",
    "                   'num_exposures': 3,\n",
    "                   'seeing': 0.16,\n",
    "                   'psf_type': 'GAUSSIAN'}"
   ]
  },
  {
   "cell_type": "markdown",
   "id": "45cb3d7a",
   "metadata": {},
   "source": [
    "Let's merge these bands observations as arguments for [Lenstronomy](https://lenstronomy.readthedocs.io/en/latest/)."
   ]
  },
  {
   "cell_type": "code",
   "execution_count": 9,
   "id": "9f828840",
   "metadata": {},
   "outputs": [],
   "source": [
    "kwargs_J_band = util.merge_dicts(Euclid_camera_NISP, Euclid_J_band_obs)\n",
    "kwargs_Y_band = util.merge_dicts(Euclid_camera_NISP, Euclid_Y_band_obs)\n",
    "kwargs_H_band = util.merge_dicts(Euclid_camera_NISP, Euclid_H_band_obs)\n",
    "kwargs_VIS_band = util.merge_dicts(Euclid_camera_VIS, Euclid_VIS_band_obs)\n",
    "kwargs_Euclid = [kwargs_J_band, kwargs_Y_band, kwargs_H_band, kwargs_VIS_band]"
   ]
  },
  {
   "cell_type": "markdown",
   "id": "41343c72",
   "metadata": {},
   "source": [
    "### Making Simulated Lenses\n",
    "Here, we define the gravitational lensing process. The function below generates the lens system with the parameters provided to it for Euclid band observations. This returns the lens image for all 4 Euclid bands, along with 2 stacked images:\n",
    "1. a single channel image for Euclid-VIS.\n",
    "2. an RGB image for Euclid-NISP (RGB --> NISP-H, NISP-Y, NISP-J).\n"
   ]
  },
  {
   "cell_type": "code",
   "execution_count": 30,
   "id": "d9791481",
   "metadata": {},
   "outputs": [],
   "source": [
    "# define variables\n",
    "numPix_Euclid = 64 # pixel grid size for Euclid based on pixel scale\n",
    "kwargs_numerics = {'point_source_supersampling_factor': 1}\n",
    "\n",
    "# function to make the compound lenses given the lenstronomy kwargs\n",
    "def LensMaker(kwargs_model_composite, kwargs_lens, kwargs_lens_light_mag_VIS, kwargs_source_mag_VIS,\n",
    "              kwargs_lens_light_mag_J, kwargs_source_mag_J, kwargs_lens_light_mag_Y, kwargs_source_mag_Y,\n",
    "              kwargs_lens_light_mag_H, kwargs_source_mag_H, kwargs_Euclid):\n",
    "    \n",
    "    # we only simulate here the g-band, see above how to combine multiple bands\n",
    "    kwargs_numerics = {'point_source_supersampling_factor': 1}\n",
    "    kwargs_ps_mag_VIS = [{'magnitude': 13, 'ra_source': 0.03, 'dec_source': -30}]\n",
    "    \n",
    "    # Euclid kwargs\n",
    "    sim_VIS = SimAPI(numpix=numPix_Euclid, kwargs_single_band=kwargs_Euclid[3], kwargs_model=kwargs_model_composite)\n",
    "    imSim_VIS = sim_VIS.image_model_class(kwargs_numerics)\n",
    "    sim_J = SimAPI(numpix=numPix_Euclid, kwargs_single_band=kwargs_Euclid[0], kwargs_model=kwargs_model_composite)    \n",
    "    imSim_J = sim_J.image_model_class(kwargs_numerics)\n",
    "    sim_Y = SimAPI(numpix=numPix_Euclid, kwargs_single_band=kwargs_Euclid[1], kwargs_model=kwargs_model_composite)\n",
    "    imSim_Y = sim_Y.image_model_class(kwargs_numerics)\n",
    "    sim_H = SimAPI(numpix=numPix_Euclid, kwargs_single_band=kwargs_Euclid[2], kwargs_model=kwargs_model_composite)\n",
    "    imSim_H = sim_H.image_model_class(kwargs_numerics)\n",
    "\n",
    "    # Y-band\n",
    "    V_Y_ps = 0\n",
    "    kwargs_ps_mag_Y = copy.deepcopy(kwargs_ps_mag_VIS)\n",
    "    kwargs_ps_mag_Y[0]['magnitude'] -= V_Y_ps\n",
    "\n",
    "    # J-band\n",
    "    V_J_ps = 0\n",
    "    kwargs_ps_mag_J = copy.deepcopy(kwargs_ps_mag_VIS)\n",
    "    kwargs_ps_mag_J[0]['magnitude'] -= V_J_ps\n",
    "\n",
    "    # H-band\n",
    "    V_H_ps = 0\n",
    "    kwargs_ps_mag_H = copy.deepcopy(kwargs_ps_mag_VIS)\n",
    "    kwargs_ps_mag_H[0]['magnitude'] -= V_H_ps\n",
    "\n",
    "    # turn magnitude kwargs into lenstronomy kwargs\n",
    "    kwargs_lens_light_VIS, kwargs_source_VIS, kwargs_ps_VIS = sim_VIS.magnitude2amplitude(kwargs_lens_light_mag_VIS, kwargs_source_mag_VIS, kwargs_ps_mag_VIS)\n",
    "    kwargs_lens_light_Y, kwargs_source_Y, kwargs_ps_Y = sim_Y.magnitude2amplitude(kwargs_lens_light_mag_Y, kwargs_source_mag_Y, kwargs_ps_mag_Y)\n",
    "    kwargs_lens_light_J, kwargs_source_J, kwargs_ps_J = sim_J.magnitude2amplitude(kwargs_lens_light_mag_J, kwargs_source_mag_J, kwargs_ps_mag_J)\n",
    "    kwargs_lens_light_H, kwargs_source_H, kwargs_ps_H = sim_H.magnitude2amplitude(kwargs_lens_light_mag_H, kwargs_source_mag_H, kwargs_ps_mag_H)\n",
    "    \n",
    "    image_VIS = imSim_VIS.image(kwargs_lens, kwargs_source_VIS, kwargs_lens_light_VIS)\n",
    "    image_J = imSim_J.image(kwargs_lens, kwargs_source_J, kwargs_lens_light_J)\n",
    "    image_Y = imSim_Y.image(kwargs_lens, kwargs_source_Y, kwargs_lens_light_Y)\n",
    "    image_H = imSim_H.image(kwargs_lens, kwargs_source_H, kwargs_lens_light_H)\n",
    "    # add noise  \n",
    "    image_VIS += sim_VIS.noise_for_model(model=image_VIS)\n",
    "    image_J += sim_J.noise_for_model(model=image_J)\n",
    "    image_Y += sim_Y.noise_for_model(model=image_Y)\n",
    "    image_H += sim_H.noise_for_model(model=image_H)                                 \n",
    "\n",
    "    # Euclid VIS and NISP plots\n",
    "    img_VIS = np.zeros((numPix_Euclid, numPix_Euclid, 1), dtype=float)\n",
    "    img_NISP = np.zeros((numPix_Euclid, numPix_Euclid, 3), dtype=float)\n",
    "    img_VIS = plot_util.sqrt(image_VIS, scale_min=0, scale_max=1000)\n",
    "    img_NISP[:,:,0] = plot_util.sqrt(image_Y, scale_min=0, scale_max=1000)\n",
    "    img_NISP[:,:,1] = plot_util.sqrt(image_J, scale_min=0, scale_max=1000)\n",
    "    img_NISP[:,:,2] = plot_util.sqrt(image_H, scale_min=0, scale_max=1000)\n",
    "    return img_VIS, img_NISP, image_VIS, image_J, image_Y, image_H\n"
   ]
  },
  {
   "cell_type": "markdown",
   "id": "e74c225c",
   "metadata": {},
   "source": [
    "### Make the Galaxies\n",
    "We'll produce the source and lens galaxies by using the redshift and magnitude pairs from the single lens dataset. The apparent magnitude for each band is generated using [SkyPy](https://pypi.org/project/skypy/). This is used to make Blue source galaxies and Red lens galaxies. Euclid filter response curves are already supported by [Speclite](https://speclite.readthedocs.io/en/latest/)."
   ]
  },
  {
   "cell_type": "code",
   "execution_count": 11,
   "id": "fef5e195",
   "metadata": {},
   "outputs": [],
   "source": [
    "# making red and blue galaxies for Euclid VIS and NISP\n",
    "def MakeBlueGalaxies_Euclid(redshift, M_lens, cosmology):\n",
    "    # the following values are taken from the Skypy source code\n",
    "    alpha0= [2.079, 3.524, 1.917, 1.992, 2.536]\n",
    "    alpha1= [2.265, 3.862, 1.921, 1.685, 2.480]\n",
    "    weight= [3.47e+09, 3.31e+06, 2.13e+09, 1.64e+10, 1.01e+09]\n",
    "    spectral_coefficients = skypy.galaxies.spectrum.dirichlet_coefficients(redshift, alpha0,alpha1,weight)\n",
    "    filters = 'Euclid-VIS','Euclid-Y','Euclid-H','Euclid-J'\n",
    "    M = M_lens - cosmo.distmod(redshift).value\n",
    "    stellar_mass = skypy.galaxies.spectrum.kcorrect.stellar_mass(spectral_coefficients,M,filters)\n",
    "    app_mag = skypy.galaxies.spectrum.kcorrect.apparent_magnitudes( spectral_coefficients, redshift, filters,cosmology, stellar_mass=stellar_mass)\n",
    "    \n",
    "    return app_mag\n",
    "\n",
    "def MakeRedGalaxies_Euclid(redshift, M_lens, cosmology):\n",
    "    # the following values are taken from the Skypy source code.\n",
    "    alpha0= [2.461, 2.358, 2.568, 2.268, 2.402]\n",
    "    alpha1= [2.410, 2.340, 2.200, 2.540, 2.464]\n",
    "    weight = [3.84e+09, 1.57e+06, 3.91e+08, 4.66e+10, 3.03e+07]\n",
    "    spectral_coefficients = skypy.galaxies.spectrum.dirichlet_coefficients(redshift, alpha0,alpha1,weight)\n",
    "    filters = 'Euclid-VIS','Euclid-Y','Euclid-H','Euclid-J'\n",
    "    M = M_lens - cosmo.distmod(redshift).value\n",
    "    stellar_mass = skypy.galaxies.spectrum.kcorrect.stellar_mass(spectral_coefficients,M,filters)\n",
    "    app_mag = skypy.galaxies.spectrum.kcorrect.apparent_magnitudes( spectral_coefficients, redshift, filters, cosmology, stellar_mass=stellar_mass)\n",
    "    \n",
    "    return app_mag"
   ]
  },
  {
   "cell_type": "markdown",
   "id": "ad4342aa",
   "metadata": {},
   "source": [
    "### Magnitude and Redshift Pairs\n",
    "To calculate the velocity dispersion using the Faber-Jackson relation, we'll require magnitude-redshift pairs. The following function randomly selects magnitude and redshift pairs from the single lens dataset. The lens galaxies are arranged to ensure that the lenses appear in the correct redshift order."
   ]
  },
  {
   "cell_type": "code",
   "execution_count": 12,
   "id": "7c73aab0",
   "metadata": {},
   "outputs": [],
   "source": [
    "# sampling magnitudes and redshift\n",
    "def Generate_Lens_System_Mag_Z_2():\n",
    "    index2 = np.random.randint(0,100000)\n",
    "\n",
    "    Z3_Data_A = csv[csv['z_source']>3]\n",
    "    Z3_Data_L = csv[csv['z_source']<3]\n",
    "\n",
    "    index0 = np.random.randint(0,Z3_Data_A.shape[0])\n",
    "    index1 = np.random.randint(0,Z3_Data_L.shape[0])\n",
    "    \n",
    "    z_source = Z3_Data_A['z_source'].values[index0]\n",
    "    mag_source = Z3_Data_A['mag_source'].values[index0]\n",
    "    \n",
    "    Z_lens_1 = Z3_Data_L['z_source'].values[index1]\n",
    "    mag_lens_1 = Z3_Data_L['mag_source'].values[index1]\n",
    "\n",
    "    Z_lens_2 = csv['z_lens'].values[index2]\n",
    "    mag_lens_2 = csv['mag_lens'].values[index2]\n",
    "    \n",
    "    if Z_lens_1 > Z_lens_2: \n",
    "        Mid_lens_Z = Z_lens_1\n",
    "        Mid_lens_Mag = mag_lens_1\n",
    "        Edge_lens_Z = Z_lens_2\n",
    "        Edge_lens_Mag = mag_lens_2\n",
    "    else:\n",
    "        Mid_lens_Z = Z_lens_2\n",
    "        Mid_lens_Mag = mag_lens_2\n",
    "        Edge_lens_Z = Z_lens_1\n",
    "        Edge_lens_Mag = mag_lens_1\n",
    "        \n",
    "    return z_source, mag_source, Mid_lens_Z, Mid_lens_Mag, Edge_lens_Z, Edge_lens_Mag"
   ]
  },
  {
   "cell_type": "markdown",
   "id": "08ad826f",
   "metadata": {},
   "source": [
    "### Einstein Radius\n",
    "We'll use the computed velocity dispersion from the Faber-Jackson relationship to calculate the Einstein radius, $\\theta_{E}$, of a gravitational lens with the following function."
   ]
  },
  {
   "cell_type": "code",
   "execution_count": 13,
   "id": "d53eefd4",
   "metadata": {},
   "outputs": [],
   "source": [
    "# get the velocity dispersion from the Faber Jackson Graph\n",
    "def Get_Theta_E_From_Velo_Dist(mag_lens, Z_lens, z_source):\n",
    "    # get the Faber-Jackson Graph\n",
    "    X,Y,w,b = MakeFaberJackson()\n",
    "    log_vel_d = w * (mag_lens - cosmo.distmod(Z_lens).value) + b\n",
    "    vel_disp_iso =10**log_vel_d\n",
    "    lens_cosmo = LensCosmo(Z_lens, z_source, cosmo=cosmo)\n",
    "    theta_E_SIS = lens_cosmo.sis_sigma_v2theta_E(vel_disp_iso)\n",
    "    \n",
    "    return theta_E_SIS"
   ]
  },
  {
   "cell_type": "markdown",
   "id": "b01e9b38",
   "metadata": {},
   "source": [
    "### Position of the Lensing Galaxy\n",
    "With the computed velocity dispersion and Einstein radius, we can calculate the position of the lensing galaxy. The function below generates the position of a galaxy within the image when given an Einstein Radius and $x$- and $y$-coordinates."
   ]
  },
  {
   "cell_type": "code",
   "execution_count": 14,
   "id": "63454211",
   "metadata": {},
   "outputs": [],
   "source": [
    "def generateLensPos(X,Y, E_theta):\n",
    "    x1 = np.random.uniform(-E_theta/2, E_theta/2)\n",
    "    y1 = np.random.uniform(-E_theta/2, E_theta/2)\n",
    "    \n",
    "    if X + x1 >=5 or X + x1 <= -5:\n",
    "        X_lens = X - x1\n",
    "    else:\n",
    "        X_lens = X + x1\n",
    "        \n",
    "    if Y + y1 >=5 or Y + y1 <= -5:\n",
    "        Y_lens = Y - y1\n",
    "    else:\n",
    "        Y_lens = Y + y1\n",
    "        \n",
    "    return X_lens, Y_lens"
   ]
  },
  {
   "cell_type": "markdown",
   "id": "d884501a",
   "metadata": {},
   "source": [
    "### Source Rotation\n",
    "This following function converts the angle and the axis ratio of the galaxy into ellipticity components, $e_{1}$ and $e_{2}$."
   ]
  },
  {
   "cell_type": "code",
   "execution_count": 15,
   "id": "76318de4",
   "metadata": {},
   "outputs": [],
   "source": [
    "def phi_q2_ellipticity(phi, q):\n",
    "    e1 = (1 - q) / (1 + q) * np.cos(2 * phi)\n",
    "    e2 = (1 - q) / (1 + q) * np.sin(2 * phi)    \n",
    "    \n",
    "    return e1, e2"
   ]
  },
  {
   "cell_type": "markdown",
   "id": "20ecc1af",
   "metadata": {},
   "source": [
    "### Generating the Lens Dataset\n",
    "This process generates everything needed to make the compound lenses.\n",
    "\n",
    "The following function gets three magnitude and redshift pairs for the galaxies in the image. The parameters returned by the functions above are computed and sampled from for each variable required to make the compound lenses.\n",
    "If an error occurs, every variable is assigned 9999 and *countMod=0*. This way, we can recognise the error.\n",
    "The function returns the Euclid-VIS and Euclid_NISP images along with individual NISP-J, NISP-Y, NISP-H images, the parameters used to generate the lenses and finally, the *countMod* variable."
   ]
  },
  {
   "cell_type": "code",
   "execution_count": 31,
   "id": "06dc9da6",
   "metadata": {},
   "outputs": [],
   "source": [
    "# now generate the compound lenses\n",
    "def CreateLenses(cosmo=cosmo):\n",
    "    Edge_source_Z, Edge_source_Mag, Mid_lens_Z, Mid_lens_Mag, Edge_lens_Z, Edge_lens_Mag = Generate_Lens_System_Mag_Z_2()\n",
    "    \n",
    "    try:\n",
    "    \n",
    "        Edge_Lens_Gal_Mag_Euclid = MakeRedGalaxies_Euclid(Edge_lens_Z,Edge_lens_Mag, cosmo)\n",
    "        Mid_Lens_Gal_Mag_Euclid = MakeRedGalaxies_Euclid(Mid_lens_Z,Mid_lens_Mag, cosmo)\n",
    "        Edge_Source_Gal_Mag_Euclid = MakeBlueGalaxies_Euclid(Edge_source_Z, Edge_source_Mag, cosmo)\n",
    "\n",
    "        theta_E_SIS_Mid = Get_Theta_E_From_Velo_Dist(Mid_lens_Mag, Mid_lens_Z, Edge_source_Z)\n",
    "        theta_E_SIS_EdgeML =  Get_Theta_E_From_Velo_Dist(Edge_lens_Mag, Edge_lens_Z, Mid_lens_Z)\n",
    "        theta_E_SIS_EdgeES = Get_Theta_E_From_Velo_Dist(Edge_lens_Mag, Edge_lens_Z, Edge_source_Z)\n",
    "\n",
    "        R_sersic_Edge_Source = np.random.uniform(0.2, 7)\n",
    "        n_sersic_Edge_Source = np.random.uniform(1.5, 4)\n",
    "        centre_X_Edge_Source = 0 + np.random.uniform(-0.5, 0.5)\n",
    "        centre_Y_Edge_Source = 0 + np.random.uniform(-0.5, 0.5)\n",
    "\n",
    "        R_sersic_Mid_Lens = np.random.uniform(0.2, 7)\n",
    "        n_sersic_Mid_Lens = np.random.uniform(1.5, 4)\n",
    "        phi_Mid_Lens = np.random.uniform(0, np.pi)\n",
    "        q_Mid_Lens =  np.random.uniform(0.3, 1)\n",
    "        e1_Mid_Lens , e2_Mid_Lens = phi_q2_ellipticity(phi_Mid_Lens, q_Mid_Lens)\n",
    "        centre_X_Mid_Lens = centre_X_Edge_Source + np.random.uniform(-0.25, 0.25)\n",
    "        centre_Y_Mid_Lens = centre_Y_Edge_Source + np.random.uniform(-0.25, 0.25)\n",
    "        gamma1_Mid_Lens =  np.random.uniform(-0.05, 0.05)\n",
    "        gamma2_Mid_Lens =  np.random.uniform(-0.05, 0.05)\n",
    "\n",
    "        R_sersic_Edge_Lens = np.random.uniform(0.2, 7)\n",
    "        n_sersic_Edge_Lens = np.random.uniform(1.5, 4)\n",
    "        phi_Edge_Lens = np.random.uniform(0, np.pi)\n",
    "        q_Edge_Lens = np.random.uniform(0.3, 1)\n",
    "        e1_Edge_Lens , e2_Edge_Lens =  phi_q2_ellipticity(phi_Edge_Lens, q_Edge_Lens)\n",
    "        centre_X_Edge_Lens = centre_X_Edge_Source + np.random.uniform(-0.25, 0.25)\n",
    "        centre_Y_Edge_Lens = centre_Y_Edge_Source + np.random.uniform(-0.25, 0.25) \n",
    "        gamma1_Edge_Lens = np.random.uniform(-0.05, 0.05)\n",
    "        gamma2_Edge_Lens = np.random.uniform(-0.05, 0.05)\n",
    "        \n",
    "\n",
    "        kwargs_model_composite = {'lens_model_list': ['SIE', 'SHEAR', 'SIE', 'SHEAR'],#, 'SIE', 'SHEAR'],  # list of lens models to be used\n",
    "                                  'lens_redshift_list': [Mid_lens_Z, Mid_lens_Z, Edge_lens_Z, Edge_lens_Z],#, Edge_lens_Z, Edge_lens_Z],  # list of redshift of the deflections\n",
    "                                  'lens_light_model_list': ['SERSIC_ELLIPSE', 'SERSIC_ELLIPSE'],  # list of unlensed light models to be used\n",
    "                                  'source_light_model_list': [ 'SERSIC'],  # list of extended source models to be used\n",
    "                                  'source_redshift_list': [Edge_source_Z],  # list of redshfits of the sources in same order as source_light_model_list\n",
    "                                  'cosmo': cosmo,  # astropy.cosmology instance\n",
    "                                  'z_source_convention': 4.5,  # source redshfit to which the reduced deflections are computed, is the maximal redshift of the ray-tracing\n",
    "                                  'z_source': 4.5,  # redshift of the default source (if not further specified by 'source_redshift_list') and also serves as the redshift of lensed point sources\n",
    "                                  }\n",
    "\n",
    "        # gamma is the shear component \n",
    "        kwargs_lens = [\n",
    "                {'theta_E': theta_E_SIS_Mid, 'e1': e1_Mid_Lens, 'e2': e2_Mid_Lens, 'center_x': centre_X_Mid_Lens, 'center_y': centre_Y_Mid_Lens},  # SIE model\n",
    "                {'gamma1': gamma1_Mid_Lens, 'gamma2': gamma2_Mid_Lens},  # SHEAR model\n",
    "                {'theta_E': theta_E_SIS_EdgeML, 'e1': e1_Edge_Lens, 'e2': e2_Edge_Lens, 'center_x': centre_X_Edge_Lens, 'center_y': centre_Y_Edge_Lens}, # SIE model\n",
    "                {'gamma1': gamma1_Edge_Lens, 'gamma2': gamma2_Edge_Lens}\n",
    "                ]\n",
    "\n",
    "        # lens light Euclid \n",
    "        kwargs_lens_light_mag_VIS = [{'magnitude': Mid_Lens_Gal_Mag_Euclid[0], 'R_sersic': R_sersic_Mid_Lens, 'n_sersic': n_sersic_Mid_Lens, 'e1': e1_Mid_Lens, 'e2': e2_Mid_Lens, 'center_x': centre_X_Mid_Lens, 'center_y': centre_Y_Mid_Lens},\n",
    "                                     {'magnitude': Edge_Lens_Gal_Mag_Euclid[0], 'R_sersic': R_sersic_Edge_Lens, 'n_sersic': n_sersic_Edge_Lens, 'e1': e1_Edge_Lens, 'e2': e2_Edge_Lens, 'center_x': centre_X_Edge_Lens, 'center_y': centre_Y_Edge_Lens}]\n",
    "\n",
    "        kwargs_lens_light_mag_Y= [{'magnitude': Mid_Lens_Gal_Mag_Euclid[1], 'R_sersic': R_sersic_Mid_Lens, 'n_sersic': n_sersic_Mid_Lens, 'e1': e1_Mid_Lens, 'e2': e2_Mid_Lens, 'center_x': centre_X_Mid_Lens, 'center_y': centre_Y_Mid_Lens},\n",
    "                                  {'magnitude': Edge_Lens_Gal_Mag_Euclid[1], 'R_sersic': R_sersic_Edge_Lens, 'n_sersic': n_sersic_Edge_Lens, 'e1': e1_Edge_Lens, 'e2': e2_Edge_Lens, 'center_x': centre_X_Edge_Lens, 'center_y': centre_Y_Edge_Lens}]\n",
    "\n",
    "        kwargs_lens_light_mag_H = [{'magnitude': Mid_Lens_Gal_Mag_Euclid[2], 'R_sersic': R_sersic_Mid_Lens, 'n_sersic': n_sersic_Mid_Lens, 'e1': e1_Mid_Lens, 'e2': e2_Mid_Lens, 'center_x': centre_X_Mid_Lens, 'center_y': centre_Y_Mid_Lens},\n",
    "                                   {'magnitude': Edge_Lens_Gal_Mag_Euclid[2], 'R_sersic': R_sersic_Edge_Lens, 'n_sersic': n_sersic_Edge_Lens, 'e1': e1_Edge_Lens, 'e2': e2_Edge_Lens, 'center_x': centre_X_Edge_Lens, 'center_y': centre_Y_Edge_Lens}]\n",
    "\n",
    "        kwargs_lens_light_mag_J = [{'magnitude': Mid_Lens_Gal_Mag_Euclid[3], 'R_sersic': R_sersic_Mid_Lens, 'n_sersic': n_sersic_Mid_Lens, 'e1': e1_Mid_Lens, 'e2': e2_Mid_Lens, 'center_x': centre_X_Mid_Lens, 'center_y': centre_Y_Mid_Lens},\n",
    "                                   {'magnitude': Edge_Lens_Gal_Mag_Euclid[3], 'R_sersic': R_sersic_Edge_Lens, 'n_sersic': n_sersic_Edge_Lens, 'e1': e1_Edge_Lens, 'e2': e2_Edge_Lens, 'center_x': centre_X_Edge_Lens, 'center_y': centre_Y_Edge_Lens}]\n",
    "        # source light Euclid\n",
    "        kwargs_source_mag_VIS = [\n",
    "                          {'magnitude': Edge_Source_Gal_Mag_Euclid[0], 'R_sersic': R_sersic_Edge_Source, 'n_sersic': n_sersic_Edge_Source, 'center_x': centre_X_Edge_Source, 'center_y': centre_Y_Edge_Source},]\n",
    "        kwargs_source_mag_Y = [\n",
    "                          {'magnitude': Edge_Source_Gal_Mag_Euclid[1], 'R_sersic': R_sersic_Edge_Source, 'n_sersic': n_sersic_Edge_Source, 'center_x': centre_X_Edge_Source, 'center_y': centre_Y_Edge_Source},]\n",
    "        kwargs_source_mag_H = [\n",
    "                          {'magnitude': Edge_Source_Gal_Mag_Euclid[2], 'R_sersic': R_sersic_Edge_Source, 'n_sersic': n_sersic_Edge_Source, 'center_x': centre_X_Edge_Source, 'center_y': centre_Y_Edge_Source},]\n",
    "        kwargs_source_mag_J = [\n",
    "                          {'magnitude': Edge_Source_Gal_Mag_Euclid[3], 'R_sersic': R_sersic_Edge_Source, 'n_sersic': n_sersic_Edge_Source, 'center_x': centre_X_Edge_Source, 'center_y': centre_Y_Edge_Source},]\n",
    "\n",
    "    \n",
    "    \n",
    "    \n",
    "    \n",
    "    \n",
    "        img_VIS, img_NISP, image_VIS, image_J, image_Y, image_H = LensMaker(kwargs_model_composite, kwargs_lens, kwargs_lens_light_mag_VIS, kwargs_source_mag_VIS,\n",
    "                                                                            kwargs_lens_light_mag_J, kwargs_source_mag_J,kwargs_lens_light_mag_Y, kwargs_source_mag_Y,\n",
    "                                                                            kwargs_lens_light_mag_H,kwargs_source_mag_H, kwargs_Euclid)\n",
    "                                                                                                                                                                               \n",
    "    \n",
    "    \n",
    "        countMod = 1\n",
    "    except ValueError:\n",
    "        \n",
    "        Edge_Lens_Gal_Mag_JWST = [9999, 9999, 9999, 9999, 9999, 9999]\n",
    "        Mid_Lens_Gal_Mag_JWST =  [9999, 9999, 9999, 9999, 9999, 9999]\n",
    "        Edge_Source_Gal_Mag_JWST = [9999, 9999, 9999, 9999, 9999, 9999]\n",
    "        Edge_Lens_Gal_Mag_Euclid = [9999, 9999, 9999, 9999]\n",
    "        Mid_Lens_Gal_Mag_Euclid =  [9999, 9999, 9999, 9999]\n",
    "        Edge_Source_Gal_Mag_Euclid = [9999, 9999, 9999, 9999]\n",
    "\n",
    "        theta_E_SIS_Mid = 9999\n",
    "        theta_E_SIS_EdgeML  = 9999\n",
    "        theta_E_SIS_EdgeES  = 9999\n",
    "\n",
    "        R_sersic_Edge_Source = 9999\n",
    "        n_sersic_Edge_Source = 9999\n",
    "        centre_X_Edge_Source = 9999\n",
    "        centre_Y_Edge_Source = 9999\n",
    "\n",
    "        R_sersic_Mid_Lens = 9999\n",
    "        n_sersic_Mid_Lens = 9999\n",
    "        e1_Mid_Lens = 9999\n",
    "        e2_Mid_Lens = 9999\n",
    "        centre_X_Mid_Lens = 9999\n",
    "        centre_Y_Mid_Lens = 9999\n",
    "        gamma1_Mid_Lens = 9999\n",
    "        gamma2_Mid_Lens = 9999\n",
    "\n",
    "        R_sersic_Edge_Lens = 9999\n",
    "        n_sersic_Edge_Lens = 9999\n",
    "        e1_Edge_Lens = 9999\n",
    "        e2_Edge_Lens = 9999\n",
    "        centre_X_Edge_Lens = 9999\n",
    "        centre_Y_Edge_Lens = 9999\n",
    "        gamma1_Edge_Lens = 9999\n",
    "        gamma2_Edge_Lens = 9999\n",
    "\n",
    "        img_VIS = np.random.random((numPix_Euclid, numPix_Euclid, 1))\n",
    "        img_NISP = np.random.random((numPix_Euclid, numPix_Euclid, 3))\n",
    "        image_VIS = np.random.random((numPix_Euclid, numPix_Euclid))\n",
    "        image_J = np.random.random((numPix_Euclid, numPix_Euclid))\n",
    "        image_Y = np.random.random((numPix_Euclid, numPix_Euclid))\n",
    "        image_H = np.random.random((numPix_Euclid, numPix_Euclid))\n",
    "        \n",
    "        \n",
    "        countMod = 0\n",
    "    \n",
    "    \n",
    "    arr_params = [Edge_source_Z, Edge_source_Mag, Mid_lens_Z,  Mid_lens_Mag,  Edge_lens_Z, Edge_lens_Mag,\n",
    "                  Edge_Source_Gal_Mag_Euclid[0], Edge_Source_Gal_Mag_Euclid[1], Edge_Source_Gal_Mag_Euclid[2], Edge_Source_Gal_Mag_Euclid[3],\n",
    "                  Mid_Lens_Gal_Mag_Euclid[0],  Mid_Lens_Gal_Mag_Euclid[1], Mid_Lens_Gal_Mag_Euclid[2], Mid_Lens_Gal_Mag_Euclid[3], \n",
    "                  Edge_Lens_Gal_Mag_Euclid[0], Edge_Lens_Gal_Mag_Euclid[1],Edge_Lens_Gal_Mag_Euclid[2], Edge_Lens_Gal_Mag_Euclid[3],\n",
    "                  theta_E_SIS_Mid, theta_E_SIS_EdgeML, theta_E_SIS_EdgeES, R_sersic_Edge_Source,  n_sersic_Edge_Source, centre_X_Edge_Source,\n",
    "                  centre_Y_Edge_Source,  R_sersic_Mid_Lens, n_sersic_Mid_Lens, e1_Mid_Lens, e2_Mid_Lens, centre_X_Mid_Lens, centre_Y_Mid_Lens,\n",
    "                  gamma1_Mid_Lens, gamma2_Mid_Lens, R_sersic_Edge_Lens, n_sersic_Edge_Lens, e1_Edge_Lens, e2_Edge_Lens, centre_X_Edge_Lens,\n",
    "                  centre_Y_Edge_Lens, gamma1_Edge_Lens, gamma2_Edge_Lens]\n",
    "    \n",
    "    \n",
    "    \n",
    "    \n",
    "    return img_VIS, img_NISP, image_VIS, image_J, image_Y, image_H, arr_params, countMod\n"
   ]
  },
  {
   "cell_type": "markdown",
   "id": "b473077a",
   "metadata": {},
   "source": [
    "Let's create a single simulated gravitational lens."
   ]
  },
  {
   "cell_type": "code",
   "execution_count": 24,
   "id": "889b8e01",
   "metadata": {},
   "outputs": [],
   "source": [
    "img_VIS, img_NISP, image_VIS, image_J, image_Y, image_H, arr_params, countMod = CreateLenses(cosmo=cosmo)\n"
   ]
  },
  {
   "cell_type": "code",
   "execution_count": 28,
   "id": "91ab5ac9",
   "metadata": {},
   "outputs": [
    {
     "name": "stderr",
     "output_type": "stream",
     "text": [
      "/var/folders/9h/r1jl5z8j0252hq0p27nzdc_40000gp/T/ipykernel_37921/1584391859.py:1: RuntimeWarning: divide by zero encountered in log10\n",
      "  plt.imshow(np.log10(img_VIS))\n"
     ]
    },
    {
     "data": {
      "text/plain": [
       "<matplotlib.image.AxesImage at 0x28a72d700>"
      ]
     },
     "execution_count": 28,
     "metadata": {},
     "output_type": "execute_result"
    },
    {
     "data": {
      "image/png": "[encoded data removed]",
      "text/plain": [
       "<Figure size 640x480 with 1 Axes>"
      ]
     },
     "metadata": {},
     "output_type": "display_data"
    }
   ],
   "source": [
    "plt.imshow(np.log10(img_VIS))"
   ]
  },
  {
   "cell_type": "markdown",
   "id": "cd22f59f",
   "metadata": {},
   "source": [
    "We can make multiple lenses. The next task is to paint lenses into the Euclid ERO cutouts of the Perseus cluster. This is done in the *Lens_Dataset.ipynb* so refer to that notebook for painting in the lenses. However, we need to save the lenses first and we choose to save them with a *.fits* extension."
   ]
  },
  {
   "cell_type": "code",
   "execution_count": 29,
   "id": "c757e27d",
   "metadata": {},
   "outputs": [
    {
     "name": "stdout",
     "output_type": "stream",
     "text": [
      "Done!\n"
     ]
    }
   ],
   "source": [
    "# make many more!!\n",
    "i = 0\n",
    "end = 5 # make a lot more than 5!\n",
    "# save to YOUR directory\n",
    "loc = wdir+'Data/Euclid-JWST/'\n",
    "file_name = '_lens.fits'\n",
    "while i < end:\n",
    "    # generate the lenses\n",
    "    img_VIS, img_NISP, image_VIS, image_J, image_Y, image_H, arr_params, countMod = CreateCompoundLenses(cosmo)\n",
    "    name_out = str(i)+file_name\n",
    "    \n",
    "    # now let's write that to a .fits file and save\n",
    "    fits.writeto(loc+'VIS/'+name_out, image_VIS, overwrite=True)\n",
    "    fits.writeto(loc+'NISP-J/'+name_out, image_J, overwrite=True)\n",
    "    fits.writeto(loc+'NISP-Y/'+name_out, image_Y, overwrite=True)\n",
    "    fits.writeto(loc+'NISP-H/'+name_out, image_H, overwrite=True)\n",
    "    i += countMod\n",
    "print('Done!')"
   ]
  },
  {
   "cell_type": "markdown",
   "id": "d7392a37",
   "metadata": {},
   "source": [
    "As a result you should see the following output. These are grayscale outputs from the *img_VIS*.\n",
    "\n",
    "![lens examples](images/Unknown.pdf)"
   ]
  },
  {
   "cell_type": "code",
   "execution_count": null,
   "id": "a1025157",
   "metadata": {},
   "outputs": [],
   "source": []
  }
 ],
 "metadata": {
  "kernelspec": {
   "display_name": "Python [conda env:eazy]",
   "language": "python",
   "name": "conda-env-eazy-py"
  },
  "language_info": {
   "codemirror_mode": {
    "name": "ipython",
    "version": 3
   },
   "file_extension": ".py",
   "mimetype": "text/x-python",
   "name": "python",
   "nbconvert_exporter": "python",
   "pygments_lexer": "ipython3",
   "version": "3.8.16"
  }
 },
 "nbformat": 4,
 "nbformat_minor": 5
}
